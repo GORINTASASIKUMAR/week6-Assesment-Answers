{
  "cells": [
    {
      "cell_type": "markdown",
      "id": "b005fb8b",
      "metadata": {
        "id": "b005fb8b"
      },
      "source": [
        "WEEK6: Assignment- Python OOP "
      ]
    },
    {
      "cell_type": "markdown",
      "id": "8831edb1",
      "metadata": {
        "id": "8831edb1"
      },
      "source": [
        "Q1.Problem on class and object\n",
        "```\n",
        "Task \n",
        "Write a Person class with an instance variable, age, and a constructor that takes an integer, initialAge,as a parameter.\n",
        "The constructor must assign initialAge to age after confirming the argument passed as initialAge is not negative;if a negative argument is passed as initialAge,the constructor should set age to 0 and print Age is not valid,setting age to 0. \n",
        "In addition, you must write the following instance methods: \n",
        "1.yearPasses() should increase the age instance variable by 1 \n",
        "2. amlOld() should perform the following conditional actions: \n",
        "- If age < 13, print You are young.. \n",
        "- If age > 13 and age < 18, print You are a teenager \n",
        "- Otherwise, print You are old.. \n",
        "\n",
        "Input Format\n",
        "The first line contains an integer,T(the number of test cases), and the T subsequent lines each contain an integer denoting the age of a Person instance.\n",
        "```"
      ]
    },
    {
      "cell_type": "markdown",
      "id": "0946f83f",
      "metadata": {
        "id": "0946f83f"
      },
      "source": [
        "![image.png](attachment:image.png)"
      ]
    },
    {
      "cell_type": "code",
      "source": [
        "import numpy as np"
      ],
      "metadata": {
        "id": "YWmWhBfAwt8q"
      },
      "id": "YWmWhBfAwt8q",
      "execution_count": null,
      "outputs": []
    },
    {
      "cell_type": "code",
      "execution_count": 9,
      "id": "0c7f9770",
      "metadata": {
        "id": "0c7f9770",
        "outputId": "6f6c79c8-2926-4f7a-a53b-1848bd46202d",
        "colab": {
          "base_uri": "https://localhost:8080/"
        }
      },
      "outputs": [
        {
          "output_type": "stream",
          "name": "stdout",
          "text": [
            "Enter the limit:3\n",
            "10\n",
            "you are young..\n",
            "you are young..\n",
            "18\n",
            "you are a teenager\n",
            "you are a teenager\n",
            "25\n",
            "you are old..\n",
            "you are old..\n"
          ]
        }
      ],
      "source": [
        "class Person:\n",
        "    def __init__(self,initialAge):\n",
        "        if(initialAge<0):\n",
        "          print(\"Age is not valid, setting age to 0.\")\n",
        "          initialAge=0\n",
        "        else:\n",
        "            self.initialAge=initialAge\n",
        "        # Add some more code to run some checks on initialAge\n",
        "    def amIOld(self,initialAge):\n",
        "        if(initialAge<13):\n",
        "            print(\"you are young..\")\n",
        "        elif(13<=initialAge<=18):\n",
        "            print(\"you are a teenager\")\n",
        "        else:\n",
        "            print(\"you are old..\")\n",
        "                # Do some computations in here and print out the correct statement to the console\n",
        "    def yearPasses(self,initialAge):\n",
        "        self.initialAge=initialAge+1\n",
        "        # Increment the age of the person in here\n",
        "\n",
        "t = int(input(\"Enter the limit:\"))\n",
        "for i in range(0, t):\n",
        "    age = int(input())         \n",
        "    p = Person(age)  \n",
        "    p.amIOld(age)\n",
        "    for j in range(0, 3):\n",
        "        p.yearPasses(age)       \n",
        "    p.amIOld(age)\n",
        "    25\n",
        "    "
      ]
    },
    {
      "cell_type": "markdown",
      "id": "fdc085f4",
      "metadata": {
        "id": "fdc085f4"
      },
      "source": [
        "Q2.Problem on Inheritance\n",
        "```\n",
        "Task \n",
        "You are given two classes, Person and Student, where Person is the base class and Student is the derived \n",
        "class. Completed code for Person and a declaration for Student are provided for you in the editor. Observe that Student inherits all the properties of Person. \n",
        "Complete the Student class by writing the following: \n",
        "• A Student class constructor, which has 4 parameters: \n",
        "1. A string, firstName. \n",
        "2. A string, lastName. \n",
        "3. An integer, id. \n",
        "4. An integer array (or vector) of test scores, scores. \n",
        "• A char calculate() method that calculates a Student object's average and returns the grade character \n",
        "representative Of their calculated average\n",
        "```\n",
        "![image-2.png](attachment:image-2.png)\n",
        "```\n",
        "The first line contains firstName,lastName and idNumber, separated by a space. The second line contains the number of test scores. The third line of space-separated integers describes scores .\n",
        "```\n",
        "![image-3.png](attachment:image-3.png)\n"
      ]
    },
    {
      "cell_type": "code",
      "source": [
        "import numpy as np"
      ],
      "metadata": {
        "id": "4fjP3KTWF65T"
      },
      "id": "4fjP3KTWF65T",
      "execution_count": 19,
      "outputs": []
    },
    {
      "cell_type": "code",
      "execution_count": null,
      "id": "668d6caf",
      "metadata": {
        "id": "668d6caf"
      },
      "outputs": [],
      "source": [
        "class Person:\n",
        " # Write your code here\n",
        "    def __init__(self,fname,lname,idnum):\n",
        "        self.fname=fname\n",
        "        self.lname=lname\n",
        "        self.idnum=idnum\n",
        "    def print_person(self):\n",
        "        print(f\"Name:\",self.fname,self.lname)\n",
        "        print(f\"ID:\",self.idnum)\n",
        "class Student(Person):\n",
        "    #   Class Constructor\n",
        "    def __init__(self,fname,lname,idnum,scores):\n",
        "        super().__init__(fname,lname,idnum)\n",
        "        self.scores=scores   \n",
        "    #   Parameters:\n",
        "    #   firstName - A string denoting the Person's first name.\n",
        "    #   lastName - A string denoting the Person's last name.\n",
        "    #   id - An integer denoting the Person's ID number.\n",
        "    #   scores - An array of integers denoting the Person's test scores.\n",
        "    #\n",
        "    # Write your constructor here\n",
        "    def calculate(self):\n",
        "        t=0\n",
        "        for i in self.scores:\n",
        "            t=t+i\n",
        "        a=sum(scores)/len(scores)\n",
        "        if(90<=a<=100):\n",
        "            return \"o\"\n",
        "        elif(80<=a<90):\n",
        "            return \"E\"\n",
        "        elif(70<=a<80):\n",
        "            return \"A\"\n",
        "        elif(55<=a<70):\n",
        "            return \"P\"\n",
        "        elif(40<=a<55):\n",
        "            return \"D\"\n",
        "        elif(a<40):\n",
        "            return \"E\"\n",
        "    #   Function Name: calculate\n",
        "    #   Return: A character denoting the grade.\n",
        "    #\n",
        "    # Write your function here\n",
        "\n",
        "line = input(\"Enter the name and ID:\").split()\n",
        "fname = line[0]\n",
        "lname = line[1]\n",
        "idnum = line[2]\n",
        "numScores = int(input(\"Enter the number of score:\")) # not needed for Python\n",
        "scores = list( map(int, input(\"Enter the scores:\").split()) )\n",
        "s = Student(fname, lname, idnum, scores)\n",
        "s.printPerson()\n",
        "print(\"Grade:\", s.calculate())"
      ]
    }
  ],
  "metadata": {
    "kernelspec": {
      "display_name": "Python 3 (ipykernel)",
      "language": "python",
      "name": "python3"
    },
    "language_info": {
      "codemirror_mode": {
        "name": "ipython",
        "version": 3
      },
      "file_extension": ".py",
      "mimetype": "text/x-python",
      "name": "python",
      "nbconvert_exporter": "python",
      "pygments_lexer": "ipython3",
      "version": "3.9.12"
    },
    "colab": {
      "name": "WEEK6 Assignment-Answers Python OOP.ipynb",
      "provenance": []
    }
  },
  "nbformat": 4,
  "nbformat_minor": 5
}